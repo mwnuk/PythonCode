{
 "cells": [
  {
   "cell_type": "markdown",
   "metadata": {},
   "source": [
    "## RNN's with multiple features"
   ]
  },
  {
   "cell_type": "markdown",
   "metadata": {},
   "source": [
    "https://datascience.stackexchange.com/questions/17099/adding-features-to-time-series-model-lstm\n",
    "    "
   ]
  },
  {
   "cell_type": "code",
   "execution_count": null,
   "metadata": {
    "collapsed": true
   },
   "outputs": [],
   "source": []
  },
  {
   "cell_type": "code",
   "execution_count": 1,
   "metadata": {},
   "outputs": [
    {
     "ename": "ModuleNotFoundError",
     "evalue": "No module named 'keras'",
     "output_type": "error",
     "traceback": [
      "\u001b[1;31m---------------------------------------------------------------------------\u001b[0m",
      "\u001b[1;31mModuleNotFoundError\u001b[0m                       Traceback (most recent call last)",
      "\u001b[1;32m<ipython-input-1-0a4ebd8e4b50>\u001b[0m in \u001b[0;36m<module>\u001b[1;34m()\u001b[0m\n\u001b[1;32m----> 1\u001b[1;33m \u001b[1;32mimport\u001b[0m \u001b[0mkeras\u001b[0m\u001b[1;33m.\u001b[0m\u001b[0mlayers\u001b[0m \u001b[1;32mas\u001b[0m \u001b[0mL\u001b[0m\u001b[1;33m\u001b[0m\u001b[0m\n\u001b[0m\u001b[0;32m      2\u001b[0m \u001b[1;32mimport\u001b[0m \u001b[0mkeras\u001b[0m\u001b[1;33m.\u001b[0m\u001b[0mmodels\u001b[0m \u001b[1;32mas\u001b[0m \u001b[0mM\u001b[0m\u001b[1;33m\u001b[0m\u001b[0m\n\u001b[0;32m      3\u001b[0m \u001b[1;33m\u001b[0m\u001b[0m\n\u001b[0;32m      4\u001b[0m \u001b[1;32mimport\u001b[0m \u001b[0mnumpy\u001b[0m\u001b[1;33m\u001b[0m\u001b[0m\n\u001b[0;32m      5\u001b[0m \u001b[1;33m\u001b[0m\u001b[0m\n",
      "\u001b[1;31mModuleNotFoundError\u001b[0m: No module named 'keras'"
     ]
    }
   ],
   "source": [
    "import keras.layers as L\n",
    "import keras.models as M\n",
    "\n",
    "import numpy\n",
    "\n",
    "# The inputs to the model.\n",
    "# We will create two data points, just for the example.\n",
    "data_x = numpy.array([\n",
    "    # Datapoint 1\n",
    "    [\n",
    "        # Input features at timestep 1\n",
    "        [1, 2, 3],\n",
    "        # Input features at timestep 2\n",
    "        [4, 5, 6]\n",
    "    ],\n",
    "    # Datapoint 2\n",
    "    [\n",
    "        # Features at timestep 1\n",
    "        [7, 8, 9],\n",
    "        # Features at timestep 2\n",
    "        [10, 11, 12]\n",
    "    ]\n",
    "])\n",
    "\n",
    "# The desired model outputs.\n",
    "# We will create two data points, just for the example.\n",
    "data_y = numpy.array([\n",
    "    # Datapoint 1\n",
    "    [\n",
    "        # Target features at timestep 1\n",
    "        [101, 102, 103, 104],\n",
    "        # Target features at timestep 2\n",
    "        [105, 106, 107, 108]\n",
    "    ],\n",
    "    # Datapoint 2\n",
    "    [\n",
    "        # Target features at timestep 1\n",
    "        [201, 202, 203, 204],\n",
    "        # Target features at timestep 2\n",
    "        [205, 206, 207, 208]\n",
    "    ]\n",
    "])\n",
    "\n",
    "# Each input data point has 2 timesteps, each with 3 features.\n",
    "# So the input shape (excluding batch_size) is (2, 3), which\n",
    "# matches the shape of each data point in data_x above.\n",
    "model_input = L.Input(shape=(2, 3))\n",
    "\n",
    "# This RNN will return timesteps with 4 features each.\n",
    "# Because return_sequences=True, it will output 2 timesteps, each\n",
    "# with 4 features. So the output shape (excluding batch size) is\n",
    "# (2, 4), which matches the shape of each data point in data_y above.\n",
    "model_output = L.LSTM(4, return_sequences=True)(model_input)\n",
    "\n",
    "# Create the model.\n",
    "model = M.Model(input=model_input, output=model_output)\n",
    "\n",
    "# You need to pick appropriate loss/optimizers for your problem.\n",
    "# I'm just using these to make the example compile.\n",
    "model.compile('sgd', 'mean_squared_error')\n",
    "\n",
    "# Train\n",
    "model.fit(data_x, data_y)"
   ]
  },
  {
   "cell_type": "code",
   "execution_count": null,
   "metadata": {
    "collapsed": true
   },
   "outputs": [],
   "source": []
  }
 ],
 "metadata": {
  "kernelspec": {
   "display_name": "Python 3",
   "language": "python",
   "name": "python3"
  },
  "language_info": {
   "codemirror_mode": {
    "name": "ipython",
    "version": 3
   },
   "file_extension": ".py",
   "mimetype": "text/x-python",
   "name": "python",
   "nbconvert_exporter": "python",
   "pygments_lexer": "ipython3",
   "version": "3.6.1"
  }
 },
 "nbformat": 4,
 "nbformat_minor": 2
}
