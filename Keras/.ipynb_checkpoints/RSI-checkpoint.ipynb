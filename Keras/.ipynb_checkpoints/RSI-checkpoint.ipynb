{
 "cells": [
  {
   "cell_type": "markdown",
   "metadata": {},
   "source": [
    "## RELATIVE STRENGTH INDEX"
   ]
  },
  {
   "cell_type": "code",
   "execution_count": null,
   "metadata": {
    "collapsed": true
   },
   "outputs": [],
   "source": [
    "\n",
    "def RSI(series, period):\n",
    "    delta = series.diff().dropna()\n",
    "    u = delta * 0\n",
    "    d = u.copy()\n",
    "    u[delta > 0] = delta[delta > 0]\n",
    "    d[delta < 0] = -delta[delta < 0]\n",
    "    u[u.index[period-1]] = np.mean( u[:period] ) #first value is sum of avg gains\n",
    "    u = u.drop(u.index[:(period-1)])\n",
    "    d[d.index[period-1]] = np.mean( d[:period] ) #first value is sum of avg losses\n",
    "    d = d.drop(d.index[:(period-1)])\n",
    "   # rs = pd.stats.moments.ewma(u, com=period-1, adjust=False) / \\\n",
    "   #      pd.stats.moments.ewma(d, com=period-1, adjust=False)\n",
    "    rs= pd.Series.ewm(u,com=period-1, min_periods=0,adjust=False,ignore_na=False).mean() / \\\n",
    "        pd.Series.ewm(d,com=period-1,min_periods=0,adjust=False,ignore_na=False).mean()\n",
    "    return 100 - 100 / (1 + rs)\n",
    "\n"
   ]
  },
  {
   "cell_type": "code",
   "execution_count": null,
   "metadata": {},
   "outputs": [],
   "source": [
    "import pandas as pd\n",
    "import numpy as np\n",
    "\n",
    "\n",
    "#sample data from StockCharts\n",
    "data = pd.Series( [ 44.34, 44.09, 44.15, 43.61,\n",
    "                    44.33, 44.83, 45.10, 45.42,\n",
    "                    45.84, 46.08, 45.89, 46.03,\n",
    "                    45.61, 46.28, 46.28, 46.00,\n",
    "                    46.03, 46.41, 46.22, 45.64 ] )\n",
    "print(RSI( data, 14 ))\n",
    "\n",
    "#14    70.464135\n",
    "#15    66.249619\n",
    "#16    66.480942\n",
    "#17    69.346853\n",
    "#18    66.294713\n",
    "#19    57.915021"
   ]
  },
  {
   "cell_type": "code",
   "execution_count": null,
   "metadata": {
    "collapsed": true
   },
   "outputs": [],
   "source": []
  },
  {
   "cell_type": "code",
   "execution_count": null,
   "metadata": {
    "collapsed": true
   },
   "outputs": [],
   "source": [
    "from pandas_datareader import data as web\n",
    "import datetime\n",
    "#Download data from yahoo finance\n",
    "start = datetime.datetime(2010,1,1)\n",
    "end = datetime.datetime(2014,3,24)\n",
    "ticker = \"AAPL\"\n",
    "f=web.DataReader(ticker,'yahoo',start,end)"
   ]
  },
  {
   "cell_type": "markdown",
   "metadata": {},
   "source": [
    "https://www.quantinsti.com/blog/build-technical-indicators-in-python/"
   ]
  },
  {
   "cell_type": "code",
   "execution_count": null,
   "metadata": {},
   "outputs": [],
   "source": [
    "# Commodity Channel Index Python Code\n",
    "\n",
    "# Load the necessary packages and modules\n",
    "from pandas_datareader import data as pdr\n",
    "import matplotlib.pyplot as plt\n",
    "#import fix_yahoo_finance\n",
    "import pandas as pd\n",
    "from pandas_datareader import data as web\n",
    "import datetime\n",
    "\n",
    "# Commodity Channel Index \n",
    "def CCI(data, ndays): \n",
    " TP = (data['High'] + data['Low'] + data['Close']) / 3 \n",
    " CCI = pd.Series((TP - pd.rolling_mean(TP, ndays)) / (0.015 * pd.rolling_std(TP, ndays)),\n",
    " #CCI = pd.Series((TP - pd.Series.rolling(window=20,center=False).mean()) / (0.015 * pd.rolling_std(TP, ndays)),\n",
    " name = 'CCI') \n",
    " data = data.join(CCI) \n",
    " return data\n",
    "\n",
    "# Retrieve the Nifty data from Yahoo finance:\n",
    "#data = pdr.get_data_yahoo(\"^NSEI\", start=\"2014-01-01\", end=\"2016-01-01\") \n",
    "\n",
    "#Download data from yahoo finance\n",
    "start = datetime.datetime(2015,1,1)\n",
    "end = datetime.datetime(2015,5,24)\n",
    "data = web.DataReader('AAPL','yahoo',start,end)\n",
    "data = pd.DataFrame(data)\n",
    "\n",
    "# Compute the Commodity Channel Index(CCI) for NIFTY based on the 20-day Moving average\n",
    "n = 20\n",
    "NIFTY_CCI = CCI(data, n)\n",
    "CCI = NIFTY_CCI['CCI']\n",
    "\n",
    "# Plotting the Price Series chart and the Commodity Channel index below\n",
    "fig = plt.figure(figsize=(7,5))\n",
    "ax = fig.add_subplot(2, 1, 1)\n",
    "ax.set_xticklabels([])\n",
    "plt.plot(data['Close'],lw=1)\n",
    "plt.title('NSE Price Chart')\n",
    "plt.ylabel('Close Price')\n",
    "plt.grid(True)\n",
    "bx = fig.add_subplot(2, 1, 2)\n",
    "plt.plot(CCI,'k',lw=0.75,linestyle='-',label='CCI')\n",
    "plt.legend(loc=2,prop={'size':9.5})\n",
    "plt.ylabel('CCI values')\n",
    "plt.grid(True)\n",
    "plt.setp(plt.gca().get_xticklabels(), rotation=30)"
   ]
  },
  {
   "cell_type": "code",
   "execution_count": null,
   "metadata": {},
   "outputs": [],
   "source": [
    "# Ease Of Movement (EVM) Code\n",
    "\n",
    "\n",
    "# Load the necessary packages and modules\n",
    "from pandas_datareader import data as pdr\n",
    "import matplotlib.pyplot as plt\n",
    "import fix_yahoo_finance\n",
    "import pandas as pd\n",
    " \n",
    "# Ease of Movement \n",
    "def EVM(data, ndays): \n",
    " dm = ((data['High'] + data['Low'])/2) - ((data['High'].shift(1) + data['Low'].shift(1))/2)\n",
    " br = (data['Volume'] / 100000000) / ((data['High'] - data['Low']))\n",
    " EVM = dm / br \n",
    " EVM_MA = pd.Series(pd.rolling_mean(EVM, ndays), name = 'EVM') \n",
    " data = data.join(EVM_MA) \n",
    " return data \n",
    " \n",
    "# Retrieve the AAPL data from Yahoo finance:\n",
    "data = pdr.get_data_yahoo(\"AAPL\", start=\"2015-01-01\", end=\"2016-01-01\")  \n",
    "data = pd.DataFrame(data)\n",
    "\n",
    "# Compute the 14-day Ease of Movement for AAPL\n",
    "n = 14\n",
    "AAPL_EVM = EVM(data, n)\n",
    "EVM = AAPL_EVM['EVM']\n",
    "\n",
    "# Plotting the Price Series chart and the Ease Of Movement below\n",
    "fig = plt.figure(figsize=(7,5))\n",
    "ax = fig.add_subplot(2, 1, 1)\n",
    "ax.set_xticklabels([])\n",
    "plt.plot(data['Close'],lw=1)\n",
    "plt.title('AAPL Price Chart')\n",
    "plt.ylabel('Close Price')\n",
    "plt.grid(True)\n",
    "bx = fig.add_subplot(2, 1, 2)\n",
    "plt.plot(EVM,'k',lw=0.75,linestyle='-',label='EVM(14)')\n",
    "plt.legend(loc=2,prop={'size':9})\n",
    "plt.ylabel('EVM values')\n",
    "plt.grid(True)\n",
    "plt.setp(plt.gca().get_xticklabels(), rotation=30)"
   ]
  },
  {
   "cell_type": "markdown",
   "metadata": {},
   "source": [
    "pip install stockstats\n",
    "https://pypi.python.org/pypi/stockstats\n",
    "http://pythondata.com/stockstats-python-module-various-stock-market-statistics-indicators/"
   ]
  },
  {
   "cell_type": "code",
   "execution_count": null,
   "metadata": {},
   "outputs": [],
   "source": [
    "#Download data from yahoo finance\n",
    "start = datetime.datetime(2015,1,1)\n",
    "end = datetime.datetime(2015,5,24)\n",
    "data = web.DataReader('AAPL','yahoo',start,end)\n",
    "\n"
   ]
  },
  {
   "cell_type": "code",
   "execution_count": null,
   "metadata": {},
   "outputs": [],
   "source": [
    "import pandas as pd\n",
    "from pandas_datareader import data as web\n",
    "from stockstats import StockDataFrame\n",
    "import numpy as np\n",
    "\n",
    "#stock = StockDataFrame.retype(pd.read_csv('stock.csv'))\n",
    "stock = StockDataFrame.retype(pd.DataFrame(data))"
   ]
  },
  {
   "cell_type": "code",
   "execution_count": null,
   "metadata": {},
   "outputs": [],
   "source": [
    "data"
   ]
  },
  {
   "cell_type": "code",
   "execution_count": null,
   "metadata": {},
   "outputs": [],
   "source": [
    "data['RSI14'] = RSI(data['close'], 14)\n",
    "data['RSI14a'] = stock['rsi_14']"
   ]
  },
  {
   "cell_type": "code",
   "execution_count": null,
   "metadata": {},
   "outputs": [],
   "source": [
    "data"
   ]
  },
  {
   "cell_type": "code",
   "execution_count": null,
   "metadata": {
    "collapsed": true
   },
   "outputs": [],
   "source": []
  }
 ],
 "metadata": {
  "kernelspec": {
   "display_name": "Python 3",
   "language": "python",
   "name": "python3"
  },
  "language_info": {
   "codemirror_mode": {
    "name": "ipython",
    "version": 3
   },
   "file_extension": ".py",
   "mimetype": "text/x-python",
   "name": "python",
   "nbconvert_exporter": "python",
   "pygments_lexer": "ipython3",
   "version": "3.6.1"
  }
 },
 "nbformat": 4,
 "nbformat_minor": 2
}
