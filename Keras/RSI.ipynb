{
 "cells": [
  {
   "cell_type": "markdown",
   "metadata": {},
   "source": [
    "## RELATIVE STRENGTH INDEX"
   ]
  },
  {
   "cell_type": "code",
   "execution_count": 1,
   "metadata": {
    "collapsed": true
   },
   "outputs": [],
   "source": [
    "\n",
    "def RSI(series, period):\n",
    "    delta = series.diff().dropna()\n",
    "    u = delta * 0\n",
    "    d = u.copy()\n",
    "    u[delta > 0] = delta[delta > 0]\n",
    "    d[delta < 0] = -delta[delta < 0]\n",
    "    u[u.index[period-1]] = np.mean( u[:period] ) #first value is sum of avg gains\n",
    "    u = u.drop(u.index[:(period-1)])\n",
    "    d[d.index[period-1]] = np.mean( d[:period] ) #first value is sum of avg losses\n",
    "    d = d.drop(d.index[:(period-1)])\n",
    "   # rs = pd.stats.moments.ewma(u, com=period-1, adjust=False) / \\\n",
    "   #      pd.stats.moments.ewma(d, com=period-1, adjust=False)\n",
    "    rs= pd.Series.ewm(u,com=period-1, min_periods=0,adjust=False,ignore_na=False).mean() / \\\n",
    "        pd.Series.ewm(d,com=period-1,min_periods=0,adjust=False,ignore_na=False).mean()\n",
    "    return 100 - 100 / (1 + rs)\n",
    "\n"
   ]
  },
  {
   "cell_type": "code",
   "execution_count": 2,
   "metadata": {},
   "outputs": [
    {
     "name": "stdout",
     "output_type": "stream",
     "text": [
      "14    70.464135\n",
      "15    66.249619\n",
      "16    66.480942\n",
      "17    69.346853\n",
      "18    66.294713\n",
      "19    57.915021\n",
      "dtype: float64\n"
     ]
    }
   ],
   "source": [
    "import pandas as pd\n",
    "import numpy as np\n",
    "\n",
    "\n",
    "#sample data from StockCharts\n",
    "data = pd.Series( [ 44.34, 44.09, 44.15, 43.61,\n",
    "                    44.33, 44.83, 45.10, 45.42,\n",
    "                    45.84, 46.08, 45.89, 46.03,\n",
    "                    45.61, 46.28, 46.28, 46.00,\n",
    "                    46.03, 46.41, 46.22, 45.64 ] )\n",
    "print(RSI( data, 14 ))\n",
    "\n",
    "#14    70.464135\n",
    "#15    66.249619\n",
    "#16    66.480942\n",
    "#17    69.346853\n",
    "#18    66.294713\n",
    "#19    57.915021"
   ]
  },
  {
   "cell_type": "code",
   "execution_count": null,
   "metadata": {
    "collapsed": true
   },
   "outputs": [],
   "source": []
  },
  {
   "cell_type": "code",
   "execution_count": 26,
   "metadata": {
    "collapsed": true
   },
   "outputs": [],
   "source": [
    "from pandas_datareader import data as web\n",
    "import datetime\n",
    "#Download data from yahoo finance\n",
    "start = datetime.datetime(2010,1,1)\n",
    "end = datetime.datetime(2014,3,24)\n",
    "ticker = \"AAPL\"\n",
    "f=web.DataReader(ticker,'yahoo',start,end)"
   ]
  },
  {
   "cell_type": "code",
   "execution_count": 4,
   "metadata": {},
   "outputs": [
    {
     "data": {
      "text/plain": [
       "'./data/AAPL.csv'"
      ]
     },
     "execution_count": 4,
     "metadata": {},
     "output_type": "execute_result"
    }
   ],
   "source": [
    "\n",
    "item='AAPL'\n",
    "file_path='./data/'+item +'.csv'\n",
    "file_path"
   ]
  },
  {
   "cell_type": "code",
   "execution_count": null,
   "metadata": {
    "collapsed": true
   },
   "outputs": [],
   "source": []
  },
  {
   "cell_type": "code",
   "execution_count": null,
   "metadata": {
    "collapsed": true
   },
   "outputs": [],
   "source": []
  }
 ],
 "metadata": {
  "kernelspec": {
   "display_name": "Python 3",
   "language": "python",
   "name": "python3"
  },
  "language_info": {
   "codemirror_mode": {
    "name": "ipython",
    "version": 3
   },
   "file_extension": ".py",
   "mimetype": "text/x-python",
   "name": "python",
   "nbconvert_exporter": "python",
   "pygments_lexer": "ipython3",
   "version": "3.6.1"
  }
 },
 "nbformat": 4,
 "nbformat_minor": 2
}
