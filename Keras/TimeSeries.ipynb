{
 "cells": [
  {
   "cell_type": "markdown",
   "metadata": {},
   "source": [
    "## SIMPLE TIME SERIES  Multilayer Perceptron model or MLP    MODEL"
   ]
  },
  {
   "cell_type": "code",
   "execution_count": 21,
   "metadata": {},
   "outputs": [
    {
     "name": "stdout",
     "output_type": "stream",
     "text": [
      "[[ 80.05667114]]\n"
     ]
    }
   ],
   "source": [
    "# univariate mlp example\n",
    "from numpy import array\n",
    "from keras.models import Sequential\n",
    "from keras.layers import Dense\n",
    "# define dataset\n",
    "X = array([[10, 20, 30], [20, 30, 40], [30, 40, 50], [40, 50, 60]])\n",
    "y = array([40, 50, 60, 70])\n",
    "# define model\n",
    "model = Sequential()\n",
    "\n",
    "model.add(Dense(100, activation='relu', input_dim=3))\n",
    "model.add(Dense(1))\n",
    "\n",
    "model.compile(optimizer='adam', loss='mse')\n",
    "# fit model\n",
    "model.fit(X, y, epochs=2000, verbose=0)\n",
    "# demonstrate prediction\n",
    "x_input = array([50, 60, 70])\n",
    "x_input = x_input.reshape((1, 3))\n",
    "yhat = model.predict(x_input, verbose=0)\n",
    "print(yhat)\n",
    "#Running the example will fit the model on the data then predict the next out-of-sample value.\n",
    "\n",
    "#Given [50, 60, 70] as input, the model correctly predicts [80] as the next value in the sequence."
   ]
  },
  {
   "cell_type": "markdown",
   "metadata": {},
   "source": [
    "## SIMPLE TIME SERIES  Convolutional Neural Network    MODEL"
   ]
  },
  {
   "cell_type": "code",
   "execution_count": 22,
   "metadata": {},
   "outputs": [
    {
     "name": "stdout",
     "output_type": "stream",
     "text": [
      "[[ 81.16619873]]\n"
     ]
    }
   ],
   "source": [
    "# univariate cnn example\n",
    "from numpy import array\n",
    "from keras.models import Sequential\n",
    "from keras.layers import Dense\n",
    "from keras.layers import Flatten\n",
    "from keras.layers.convolutional import Conv1D\n",
    "from keras.layers.convolutional import MaxPooling1D\n",
    "# define dataset\n",
    "X = array([[10, 20, 30], [20, 30, 40], [30, 40, 50], [40, 50, 60]])\n",
    "y = array([40, 50, 60, 70])\n",
    "# reshape from [samples, timesteps] into [samples, timesteps, features]\n",
    "X = X.reshape((X.shape[0], X.shape[1], 1))\n",
    "# define model\n",
    "model = Sequential()\n",
    "\n",
    "model.add(Conv1D(filters=64, kernel_size=2, activation='relu', input_shape=(3, 1)))\n",
    "model.add(MaxPooling1D(pool_size=2))\n",
    "model.add(Flatten())\n",
    "model.add(Dense(50, activation='relu'))\n",
    "model.add(Dense(1))\n",
    "\n",
    "model.compile(optimizer='adam', loss='mse')\n",
    "# fit model\n",
    "model.fit(X, y, epochs=1000, verbose=0)\n",
    "# demonstrate prediction\n",
    "x_input = array([50, 60, 70])\n",
    "x_input = x_input.reshape((1, 3, 1))\n",
    "yhat = model.predict(x_input, verbose=0)\n",
    "print(yhat)"
   ]
  },
  {
   "cell_type": "code",
   "execution_count": null,
   "metadata": {
    "collapsed": true
   },
   "outputs": [],
   "source": []
  },
  {
   "cell_type": "markdown",
   "metadata": {},
   "source": [
    "## SIMPLE TIME SERIES   LSTM   MODEL"
   ]
  },
  {
   "cell_type": "code",
   "execution_count": 23,
   "metadata": {},
   "outputs": [
    {
     "name": "stdout",
     "output_type": "stream",
     "text": [
      "[[ 84.22696686]]\n",
      "80\n"
     ]
    }
   ],
   "source": [
    "# univariate lstm example\n",
    "import math\n",
    "from numpy import array\n",
    "from keras.models import Sequential\n",
    "from keras.layers import LSTM\n",
    "from keras.layers import Dense\n",
    "# define dataset\n",
    "X = array([[10, 20, 30], [20, 30, 40], [30, 40, 50], [40, 50, 60]])\n",
    "y = array([40, 50, 60, 70])\n",
    "# reshape from [samples, timesteps] into [samples, timesteps, features]\n",
    "X = X.reshape((X.shape[0], X.shape[1], 1))\n",
    "# define model\n",
    "model = Sequential()\n",
    "\n",
    "model.add(LSTM(50, activation='relu', input_shape=(3, 1)))\n",
    "model.add(Dense(1))\n",
    "\n",
    "model.compile(optimizer='adam', loss='mse')\n",
    "# fit model\n",
    "model.fit(X, y, epochs=1000, verbose=0)\n",
    "# demonstrate prediction\n",
    "x_input = array([50, 60, 70])\n",
    "x_input = x_input.reshape((1, 3, 1))\n",
    "yhat = model.predict(x_input, verbose=0)\n",
    "print(yhat)\n",
    "print (int(math.floor(yhat/ 10.0)) * 10)   # round down to closest 10\n",
    "#Running the example will fit the model on the data then predict the next out-of-sample value.\n",
    "#Given [50, 60, 70] as input, the model correctly predicts [80] as the next value in the sequence.\n"
   ]
  },
  {
   "cell_type": "markdown",
   "metadata": {},
   "source": [
    "## SIMPLE TIME SERIES   CNN-LSTM   MODEL"
   ]
  },
  {
   "cell_type": "code",
   "execution_count": 27,
   "metadata": {},
   "outputs": [
    {
     "name": "stdout",
     "output_type": "stream",
     "text": [
      "[[ 93.53842163]]\n"
     ]
    }
   ],
   "source": [
    "# univariate cnn-lstm example\n",
    "from numpy import array\n",
    "from keras.models import Sequential\n",
    "from keras.layers import LSTM\n",
    "from keras.layers import Dense\n",
    "from keras.layers import Flatten\n",
    "from keras.layers import TimeDistributed\n",
    "from keras.layers.convolutional import Conv1D\n",
    "from keras.layers.convolutional import MaxPooling1D\n",
    "# define dataset\n",
    "X = array([[10, 20, 30, 40], [20, 30, 40, 50], [30, 40, 50, 60], [40, 50, 60, 70]])\n",
    "y = array([50, 60, 70, 80])\n",
    "# reshape from [samples, timesteps] into [samples, subsequences, timesteps, features]\n",
    "X = X.reshape((X.shape[0], 2, 2, 1))\n",
    "# define model\n",
    "model = Sequential()\n",
    "model.add(TimeDistributed(Conv1D(filters=64, kernel_size=1, activation='relu'), input_shape=(None, 2, 1)))\n",
    "model.add(TimeDistributed(MaxPooling1D(pool_size=2)))\n",
    "model.add(TimeDistributed(Flatten()))\n",
    "model.add(LSTM(50, activation='relu'))\n",
    "model.add(Dense(1))\n",
    "model.compile(optimizer='adam', loss='mse')\n",
    "# fit model\n",
    "model.fit(X, y, epochs=500, verbose=0)\n",
    "# demonstrate prediction\n",
    "x_input = array([50, 60, 70, 80])\n",
    "x_input = x_input.reshape((1, 2, 2, 1))\n",
    "yhat = model.predict(x_input, verbose=0)\n",
    "print(yhat)"
   ]
  },
  {
   "cell_type": "code",
   "execution_count": null,
   "metadata": {
    "collapsed": true
   },
   "outputs": [],
   "source": []
  }
 ],
 "metadata": {
  "kernelspec": {
   "display_name": "Python 3",
   "language": "python",
   "name": "python3"
  },
  "language_info": {
   "codemirror_mode": {
    "name": "ipython",
    "version": 3
   },
   "file_extension": ".py",
   "mimetype": "text/x-python",
   "name": "python",
   "nbconvert_exporter": "python",
   "pygments_lexer": "ipython3",
   "version": "3.6.1"
  }
 },
 "nbformat": 4,
 "nbformat_minor": 2
}
