{
 "cells": [
  {
   "cell_type": "markdown",
   "metadata": {},
   "source": [
    "## RNN's with multiple features"
   ]
  },
  {
   "cell_type": "markdown",
   "metadata": {},
   "source": [
    "https://datascience.stackexchange.com/questions/17099/adding-features-to-time-series-model-lstm\n",
    "\n",
    "## In Windows:\n",
    "conda install --channel https://conda.anaconda.org/conda-forge keras\n",
    "\n",
    "    "
   ]
  },
  {
   "cell_type": "code",
   "execution_count": null,
   "metadata": {
    "collapsed": true
   },
   "outputs": [],
   "source": []
  },
  {
   "cell_type": "code",
   "execution_count": 10,
   "metadata": {},
   "outputs": [
    {
     "name": "stderr",
     "output_type": "stream",
     "text": [
      "C:\\Users\\mwnuk\\AppData\\Local\\Continuum\\Anaconda3\\lib\\site-packages\\ipykernel_launcher.py:56: UserWarning: Update your `Model` call to the Keras 2 API: `Model(inputs=/input_10, outputs=InplaceDim...)`\n",
      "C:\\Users\\mwnuk\\AppData\\Local\\Continuum\\Anaconda3\\lib\\site-packages\\ipykernel_launcher.py:63: UserWarning: The `nb_epoch` argument in `fit` has been renamed `epochs`.\n"
     ]
    },
    {
     "name": "stdout",
     "output_type": "stream",
     "text": [
      "Epoch 1/10\n",
      "0s - loss: 26427.4258\n",
      "Epoch 2/10\n",
      "0s - loss: 26298.4375\n",
      "Epoch 3/10\n",
      "0s - loss: 26243.2383\n",
      "Epoch 4/10\n",
      "0s - loss: 26242.8359\n",
      "Epoch 5/10\n",
      "0s - loss: 26242.7109\n",
      "Epoch 6/10\n",
      "0s - loss: 26242.6055\n",
      "Epoch 7/10\n",
      "0s - loss: 26242.5176\n",
      "Epoch 8/10\n",
      "0s - loss: 26242.4414\n",
      "Epoch 9/10\n",
      "0s - loss: 26242.3887\n",
      "Epoch 10/10\n",
      "0s - loss: 26242.3711\n"
     ]
    },
    {
     "data": {
      "text/plain": [
       "<keras.callbacks.History at 0xf9b31d0>"
      ]
     },
     "execution_count": 10,
     "metadata": {},
     "output_type": "execute_result"
    }
   ],
   "source": [
    "import keras.layers as L\n",
    "import keras.models as M\n",
    "\n",
    "import numpy\n",
    "\n",
    "# The inputs to the model.\n",
    "# We will create two data points, just for the example.\n",
    "data_x = numpy.array([\n",
    "    # Datapoint 1\n",
    "    [\n",
    "        # Input features at timestep 1\n",
    "        [1,2,3,4,5,4,3,2,1],\n",
    "        # Input features at timestep 2\n",
    "        [0,1,2,3,4,5,4,3,2]\n",
    "    ],\n",
    "    # Datapoint 2\n",
    "    [\n",
    "        # Features at timestep 1\n",
    "        [0,1,2,3,4,5,4,3,2],\n",
    "        # Features at timestep 2\n",
    "        [0,0,1,2,3,4,5,4,3]\n",
    "    ]\n",
    "])\n",
    "\n",
    "# The desired model outputs.\n",
    "# We will create two data points, just for the example.\n",
    "data_y = numpy.array([\n",
    "    # Datapoint 1\n",
    "    [\n",
    "        # Target features at timestep 1\n",
    "        [101, 102, 103, 104],\n",
    "        # Target features at timestep 2\n",
    "        [105, 106, 107, 108]\n",
    "    ],\n",
    "    # Datapoint 2\n",
    "    [\n",
    "        # Target features at timestep 1\n",
    "        [201, 202, 203, 204],\n",
    "        # Target features at timestep 2\n",
    "        [205, 206, 207, 208]\n",
    "    ]\n",
    "])\n",
    "\n",
    "# Each input data point has 2 timesteps, each with 3 features.\n",
    "# So the input shape (excluding batch_size) is (2, 3), which\n",
    "# matches the shape of each data point in data_x above.\n",
    "model_input = L.Input(shape=(2, 9))\n",
    "\n",
    "# This RNN will return timesteps with 4 features each.\n",
    "# Because return_sequences=True, it will output 2 timesteps, each\n",
    "# with 4 features. So the output shape (excluding batch size) is\n",
    "# (2, 4), which matches the shape of each data point in data_y above.\n",
    "model_output = L.LSTM(4, return_sequences=True)(model_input)\n",
    "\n",
    "# Create the model.\n",
    "model = M.Model(input=model_input, output=model_output)\n",
    "\n",
    "# You need to pick appropriate loss/optimizers for your problem.\n",
    "# I'm just using these to make the example compile.\n",
    "model.compile('sgd', 'mean_squared_error')\n",
    "#model.compile(loss='crossentropy', optimizer='adam', metrics=['accuracy'])\n",
    "# Train\n",
    "model.fit(data_x, data_y, nb_epoch=10, batch_size=10,  verbose=2)"
   ]
  },
  {
   "cell_type": "code",
   "execution_count": null,
   "metadata": {
    "collapsed": true
   },
   "outputs": [],
   "source": []
  },
  {
   "cell_type": "code",
   "execution_count": null,
   "metadata": {
    "collapsed": true
   },
   "outputs": [],
   "source": []
  }
 ],
 "metadata": {
  "kernelspec": {
   "display_name": "Python 3",
   "language": "python",
   "name": "python3"
  },
  "language_info": {
   "codemirror_mode": {
    "name": "ipython",
    "version": 3
   },
   "file_extension": ".py",
   "mimetype": "text/x-python",
   "name": "python",
   "nbconvert_exporter": "python",
   "pygments_lexer": "ipython3",
   "version": "3.6.1"
  }
 },
 "nbformat": 4,
 "nbformat_minor": 2
}
