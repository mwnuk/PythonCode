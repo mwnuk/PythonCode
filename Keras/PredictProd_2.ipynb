{
 "cells": [
  {
   "cell_type": "code",
   "execution_count": 6,
   "metadata": {
    "scrolled": true
   },
   "outputs": [
    {
     "name": "stdout",
     "output_type": "stream",
     "text": [
      "Read from file  DJI\n",
      "Read from file  NKE\n",
      "Loaded model  NKE  from disk\n",
      "Finished MakePredictions\n",
      "Read from file  PFE\n",
      "Loaded model  PFE  from disk\n",
      "Finished MakePredictions\n",
      "Read from file  PG\n",
      "Loaded model  PG  from disk\n",
      "Finished MakePredictions\n",
      "Read from file  TRV\n",
      "Loaded model  TRV  from disk\n",
      "Finished MakePredictions\n",
      "Read from file  UNH\n",
      "Loaded model  UNH  from disk\n",
      "Finished MakePredictions\n",
      "Read from file  V\n",
      "Loaded model  V  from disk\n",
      "Finished MakePredictions\n",
      "Read from file  VZ\n",
      "Loaded model  VZ  from disk\n",
      "Finished MakePredictions\n",
      "Read from file  WMT\n",
      "Loaded model  WMT  from disk\n",
      "Finished MakePredictions\n",
      "Read from file  XOM\n",
      "Loaded model  XOM  from disk\n",
      "Finished MakePredictions\n"
     ]
    }
   ],
   "source": [
    "-"
   ]
  },
  {
   "cell_type": "markdown",
   "metadata": {},
   "source": [
    "len(df.index)\n"
   ]
  },
  {
   "cell_type": "code",
   "execution_count": null,
   "metadata": {
    "collapsed": true
   },
   "outputs": [],
   "source": [
    "filename=mypath+\"AAPL.csv\"\n",
    "fo = open(filename, \"r\")\n",
    "fo.seek(-80, os.SEEK_END)\n",
    "line = fo.readlines()[-1]\n",
    "line"
   ]
  },
  {
   "cell_type": "code",
   "execution_count": null,
   "metadata": {
    "collapsed": true
   },
   "outputs": [],
   "source": [
    "def getLastLine(fname, maxLineLength=80):\n",
    "  fp=file(fname, \"rb\")\n",
    "  fp.seek(-maxLineLength-1, 2) # 2 means \"from the end of the file\"\n",
    "  return fp.readlines()[-1]\n",
    "\n",
    "filename=mypath+\"AAPL.csv\"\n",
    "getLastLine(filename)"
   ]
  },
  {
   "cell_type": "code",
   "execution_count": null,
   "metadata": {
    "collapsed": true
   },
   "outputs": [],
   "source": []
  },
  {
   "cell_type": "code",
   "execution_count": null,
   "metadata": {
    "collapsed": true
   },
   "outputs": [],
   "source": []
  },
  {
   "cell_type": "code",
   "execution_count": null,
   "metadata": {
    "collapsed": true
   },
   "outputs": [],
   "source": []
  },
  {
   "cell_type": "code",
   "execution_count": null,
   "metadata": {
    "collapsed": true
   },
   "outputs": [],
   "source": []
  }
 ],
 "metadata": {
  "kernelspec": {
   "display_name": "Python 3",
   "language": "python",
   "name": "python3"
  },
  "language_info": {
   "codemirror_mode": {
    "name": "ipython",
    "version": 3
   },
   "file_extension": ".py",
   "mimetype": "text/x-python",
   "name": "python",
   "nbconvert_exporter": "python",
   "pygments_lexer": "ipython3",
   "version": "3.6.1"
  }
 },
 "nbformat": 4,
 "nbformat_minor": 2
}
