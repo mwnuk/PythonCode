{
 "cells": [
  {
   "cell_type": "code",
   "execution_count": null,
   "metadata": {
    "collapsed": true
   },
   "outputs": [],
   "source": [
    "import pandas as pd\n",
    "from pandas_datareader import data as web\n",
    "from pandas import read_csv\n",
    "import os.path\n",
    "import datetime\n",
    "mypath='C:\\\\Users\\\\mwnuk\\\\Dropbox\\\\Quotes\\\\'\n",
    "settingsPath='C:\\\\Users\\\\mwnuk\\\\Dropbox\\\\Settings\\\\'"
   ]
  },
  {
   "cell_type": "code",
   "execution_count": null,
   "metadata": {
    "collapsed": true
   },
   "outputs": [],
   "source": [
    "#####################################################################\n",
    "\n",
    "def getData(item):\n",
    "    start = datetime.datetime(2014, 12, 29)\n",
    "    end = datetime.datetime.now()\n",
    "    #print( start,end) \n",
    "#    file_path='./data/'+item +'.csv'\n",
    "    file_path=mypath+item + '.csv'\n",
    "    if not os.path.exists(file_path):\n",
    "        print(\"Empty set\")\n",
    "        df =web.DataReader(item,'yahoo',start,end)  \n",
    "        df=df.round(2)\n",
    "        \n",
    "#        df.to_csv('./data/' + item + '.csv')\n",
    "        df.to_csv(mypath + item + '.csv')\n",
    "        #df['Date']=pd.to_datetime(df['Date']) #important for sorting\n",
    "        #df.set_index(\"Date\",inplace=True)\n",
    "        df.index.name = 'Date'\n",
    "    else:\n",
    "        print(\"Read from file\")  \n",
    "        df = read_csv(file_path)\n",
    "        df['Date']=pd.to_datetime(df['Date']) #important for sorting\n",
    "        df.set_index(\"Date\",inplace=True)\n",
    "\n",
    "        try:\n",
    "            #end = datetime.datetime.now()\n",
    "            lastDate=df.index[df.shape[0]-1] #last recorded day\n",
    "            d1 = lastDate #datetime.datetime.strptime(lastDate, \"%Y-%m-%d\")  \n",
    "            #d1 = datetime.datetime.strptime(lastDate)\n",
    "            #print(d1,end )\n",
    "            if( d1 < end - datetime.timedelta(days=3)): # dont update on Sat or Sun\n",
    "                #end.weekday()=7 #sunday \n",
    "                print(\"Updating\")  \n",
    "                d2 = lastDate + datetime.timedelta(days=1)\n",
    "                #print(d2,end )\n",
    "                df1 =web.DataReader(item,'yahoo',d2,end)  \n",
    "                updateDate=df1.index[df1.shape[0]-1]\n",
    "                print(updateDate , d1)\n",
    "                if (updateDate !=  d1): #yahoo gives unwanted records\n",
    "                    df1=df1.round(2)\n",
    "                    df=pd.concat([df,df1])\n",
    "                    df.index= pd.to_datetime(df.index, format=\"%Y-%m-%d\") # drop time \n",
    "                    #df.to_csv('C:\\mwnuk\\Dropbox\\Quotes\\' + item + '.csv')\n",
    "                    df.to_csv(mypath + item + '.csv')\n",
    "                else:\n",
    "                    print(\"No need to update\")\n",
    "        except: print(\"Exception caught\")\n",
    "    return df\n",
    "\n"
   ]
  },
  {
   "cell_type": "code",
   "execution_count": null,
   "metadata": {},
   "outputs": [],
   "source": [
    ")\n"
   ]
  },
  {
   "cell_type": "code",
   "execution_count": null,
   "metadata": {
    "scrolled": false
   },
   "outputs": [],
   "source": [
    "from time import sleep\n",
    "\n",
    "df = read_csv(settingsPath + 'List6.csv', header=None)\n",
    "for index in range (df.shape[0]):\n",
    "    item=df.iloc[index,0]\n",
    "    print ('Current item :', item)\n",
    "    getData(item)\n",
    "    sleep(3)\n",
    "    \n",
    "\n",
    "\n"
   ]
  },
  {
   "cell_type": "code",
   "execution_count": null,
   "metadata": {
    "scrolled": true
   },
   "outputs": [],
   "source": [
    "from pandas_datareader.data import Options\n",
    "goog = Options('goog', 'google')\n",
    "#goog.get_options_data(expiry=goog.expiry_dates[0])\n",
    "#data.iloc[0:5, 0:5] \n",
    "goog"
   ]
  },
  {
   "cell_type": "code",
   "execution_count": null,
   "metadata": {},
   "outputs": [],
   "source": [
    "import dropbox\n",
    "\n",
    "import pathlib\n",
    "import dropbox\n",
    "import re\n",
    "api_access_token = ''' see aws.txt '''\n",
    "\n",
    "# the source file\n",
    "folder = pathlib.Path(\".\")    # located in this folder\n",
    "filename = \"test.ipynb\"         # file name\n",
    "filepath = folder / filename  # path object, defining the file\n",
    "\n",
    "# target location in Dropbox\n",
    "target = \"/Temp/\"              # the target folder\n",
    "targetfile = target + filename   # the target path and file name\n",
    "\n",
    "# Create a dropbox object using an API v2 key\n",
    "d = dropbox.Dropbox(api_access_token)\n",
    "\n",
    "# open the file and upload it\n",
    "with filepath.open(\"rb\") as f:\n",
    "   # upload gives you metadata about the file\n",
    "   # we want to overwite any previous version of the file\n",
    "   meta = d.files_upload(f.read(), targetfile, mode=dropbox.files.WriteMode(\"overwrite\"))\n",
    "\n",
    "# create a shared link\n",
    "link = d.sharing_create_shared_link(targetfile)\n",
    "\n",
    "# url which can be shared\n",
    "url = link.url\n",
    "\n",
    "# link which directly downloads by replacing ?dl=0 with ?dl=1\n",
    "dl_url = re.sub(r\"\\?dl\\=0\", \"?dl=1\", url)\n",
    "print (dl_url)"
   ]
  },
  {
   "cell_type": "code",
   "execution_count": null,
   "metadata": {
    "collapsed": true
   },
   "outputs": [],
   "source": []
  }
 ],
 "metadata": {
  "kernelspec": {
   "display_name": "Python 3",
   "language": "python",
   "name": "python3"
  },
  "language_info": {
   "codemirror_mode": {
    "name": "ipython",
    "version": 3
   },
   "file_extension": ".py",
   "mimetype": "text/x-python",
   "name": "python",
   "nbconvert_exporter": "python",
   "pygments_lexer": "ipython3",
   "version": "3.6.1"
  }
 },
 "nbformat": 4,
 "nbformat_minor": 2
}
