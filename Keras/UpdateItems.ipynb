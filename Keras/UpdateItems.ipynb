{
 "cells": [
  {
   "cell_type": "code",
   "execution_count": 1,
   "metadata": {
    "collapsed": true
   },
   "outputs": [],
   "source": [
    "import pandas as pd\n",
    "from pandas_datareader import data as web\n",
    "from pandas import read_csv\n",
    "from pandas import concat\n",
    "import os.path\n",
    "import datetime \n",
    "import numpy as np\n",
    "\n",
    "mypath='C:\\\\Users\\\\mwnuk\\\\Dropbox\\\\Quotes\\\\'\n",
    "myModelpath='C:\\\\Users\\\\mwnuk\\\\Dropbox\\\\Models\\\\'\n",
    "settingsPath='C:\\\\Users\\\\mwnuk\\\\Dropbox\\\\Settings\\\\'\n",
    "reportPath='C:\\\\Users\\\\mwnuk\\\\Dropbox\\\\Reports\\\\'"
   ]
  },
  {
   "cell_type": "code",
   "execution_count": 2,
   "metadata": {
    "collapsed": true
   },
   "outputs": [],
   "source": [
    "#####################################################################\n",
    "\n",
    "def getData(item):\n",
    "    start = datetime.datetime(2014, 12, 29)\n",
    "    end = datetime.datetime.now()\n",
    "    #print( start,end) \n",
    "#    file_path='./data/'+item +'.csv'\n",
    "    file_path=mypath+item + '.csv'\n",
    "    if not os.path.exists(file_path):\n",
    "        print(\"Empty set\")\n",
    "        df =web.DataReader(item,'yahoo',start,end)  \n",
    "        df=df.round(2)\n",
    "        df.to_csv(mypath + item + '.csv')\n",
    "        df.index.name = 'Date'\n",
    "    else:\n",
    "        df = read_csv(file_path)\n",
    "\n",
    "        df['Date']=pd.to_datetime(df['Date']) #important for sorting\n",
    "        df.set_index(\"Date\",inplace=True)\n",
    "        lastDate=df.index[df.shape[0]-1] \n",
    "        print(\"Read \",df.shape[0],\" records from file. Last record \",lastDate)\n",
    "\n",
    "        d1 = lastDate #datetime.datetime.strptime(lastDate, \"%Y-%m-%d\")  \n",
    "        #d1 = datetime.datetime.strptime(lastDate)\n",
    "        #if(parsedLast<parsedEnd):\n",
    "         #     print(d1,end )\n",
    "       # try:\n",
    "        #AND (end.weekday()==7 OR end.weekday()==6)): # dont update on Sat or Sun\n",
    "        #end.weekday()=7 #sunday \n",
    "        #print(\"Updating\")  \n",
    "        d2 = lastDate + datetime.timedelta(days=1)\n",
    "        print(\"Updating from \",d2,\"to\",end )\n",
    "        df1 = web.DataReader(item,'yahoo',d2,end)  \n",
    "        #print(df1.tail)\n",
    "        #print(\"d2/end\",d2,end)\n",
    "        updateDate = df1.index[df1.shape[0]-1]\n",
    "        #print(\"Updating\", lastDate, \"with\",updateDate)\n",
    "        if (updateDate !=  lastDate): #yahoo gives unwanted records\n",
    "            #df1=df1.drop_duplicates(subset=['Open'], keep='first') # yahoo may return 2 records per day\n",
    "            df1=df1.round(2)\n",
    "            df=pd.concat([df,df1])\n",
    "            df.index= pd.to_datetime(df.index, format=\"%Y-%m-%d\") # drop time \n",
    "            #print(\"shape\",df.shape[0],df1.shape[0])\n",
    "            #print(df1)\n",
    "            df.to_csv(mypath + item + '.csv')\n",
    "        else:\n",
    "            print(\"No need to update\")\n",
    "        #except: print(\"-----Exception caught, its up to date or not available\")\n",
    "    return df\n",
    "\n"
   ]
  },
  {
   "cell_type": "code",
   "execution_count": null,
   "metadata": {},
   "outputs": [],
   "source": [
    "end = datetime.datetime.now()\n",
    "d2 = datetime.datetime( 2018, 1, 16)\n",
    "web.DataReader(item,'yahoo',d2,end)\n"
   ]
  },
  {
   "cell_type": "code",
   "execution_count": null,
   "metadata": {
    "scrolled": true
   },
   "outputs": [],
   "source": [
    " getData('DJI')\n",
    "    "
   ]
  },
  {
   "cell_type": "code",
   "execution_count": 6,
   "metadata": {
    "scrolled": true
   },
   "outputs": [
    {
     "name": "stdout",
     "output_type": "stream",
     "text": [
      "Current item : AAPL\n",
      "Read  787  records from file. Last record  2018-02-09 00:00:00\n",
      "Updating from  2018-02-10 00:00:00 to 2018-02-10 20:15:02.725710\n",
      "No need to update\n",
      "Current item : AXP\n",
      "Read  786  records from file. Last record  2018-02-09 00:00:00\n",
      "Updating from  2018-02-10 00:00:00 to 2018-02-10 20:15:15.875123\n",
      "No need to update\n",
      "Current item : BA\n",
      "Read  787  records from file. Last record  2018-02-09 00:00:00\n",
      "Updating from  2018-02-10 00:00:00 to 2018-02-10 20:15:27.037282\n",
      "No need to update\n",
      "Current item : CAT\n",
      "Read  787  records from file. Last record  2018-02-09 00:00:00\n",
      "Updating from  2018-02-10 00:00:00 to 2018-02-10 20:15:35.229008\n",
      "Added to Failed List 1 CAT\n",
      "Current item : CSCO\n",
      "Read  787  records from file. Last record  2018-02-09 00:00:00\n",
      "Updating from  2018-02-10 00:00:00 to 2018-02-10 20:15:47.685694\n",
      "No need to update\n",
      "Failed first pass: ['CAT']\n",
      "Current item : CAT\n",
      "Read  787  records from file. Last record  2018-02-09 00:00:00\n",
      "Updating from  2018-02-10 00:00:00 to 2018-02-10 20:16:05.924304\n",
      "No need to update\n"
     ]
    }
   ],
   "source": [
    "from time import sleep\n",
    "import random\n",
    "\n",
    "df1 = read_csv(settingsPath + 'List1.csv', header=None)\n",
    "df2 = read_csv(settingsPath + 'List2.csv', header=None)\n",
    "df3 = read_csv(settingsPath + 'List3.csv', header=None)\n",
    "df4 = read_csv(settingsPath + 'List4.csv', header=None)\n",
    "df5 = read_csv(settingsPath + 'List5.csv', header=None)\n",
    "df6 = read_csv(settingsPath + 'List6.csv', header=None)\n",
    "df7 = read_csv(settingsPath + 'BetaList.csv', header=None)\n",
    "df=pd.concat([df1,df2,df3,df4,df5,df6,df7])\n",
    "df=df1\n",
    "failedlist1 = [];\n",
    "failedlist2 = [];\n",
    "failedlist3 = [];\n",
    "for index in range (df.shape[0]):\n",
    "    item=df.iloc[index,0]\n",
    "    print ('Current item :', item)\n",
    "    try:\n",
    "        getData(item)\n",
    "    except:\n",
    "        print(\"Added to Failed List 1\",item)\n",
    "        failedlist1.append(item)\n",
    "    sleep(random.randint(7,12))\n",
    "print(\"Failed first pass:\",failedlist1)   \n",
    "\n",
    "sleep (6)\n",
    "\n",
    "## SECOND PASS\n",
    "\n",
    "for index in range (len(failedlist1)):\n",
    "    item=failedlist1[index]\n",
    "    print ('Current item :', item)\n",
    "    try:\n",
    "        getData(item)\n",
    "    except: \n",
    "        print(\"Added to Failed List 2\",item)\n",
    "        failedlist2.append(item)\n",
    "    sleep(random.randint(5,12))\n",
    "\n",
    "    sleep (6)\n",
    "## THIRD PASS\n",
    "\n",
    "for index in range (len(failedlist2)):\n",
    "    item=failedlist2[index]\n",
    "    print ('Current item :', item)\n",
    "    try:\n",
    "        getData(item)\n",
    "    except: \n",
    "        print(\"Added to list3\",item)\n",
    "        failedlist3.append(item)\n",
    "    sleep(random.randint(3,7))\n"
   ]
  },
  {
   "cell_type": "code",
   "execution_count": null,
   "metadata": {
    "collapsed": true,
    "scrolled": true
   },
   "outputs": [],
   "source": [
    " #test\n",
    "start = datetime.datetime(2018, 1, 4)\n",
    "end = datetime.datetime.now()\n",
    "df1=web.DataReader('DJI','yahoo',start,end)  \n",
    "df1.index[df1.shape[0]-1]"
   ]
  },
  {
   "cell_type": "code",
   "execution_count": null,
   "metadata": {
    "collapsed": true
   },
   "outputs": [],
   "source": [
    "import dropbox\n",
    "\n",
    "import pathlib\n",
    "import dropbox\n",
    "import re\n",
    "api_access_token = ''' see aws.txt '''\n",
    "\n",
    "# the source file\n",
    "folder = pathlib.Path(\".\")    # located in this folder\n",
    "filename = \"test.ipynb\"         # file name\n",
    "filepath = folder / filename  # path object, defining the file\n",
    "\n",
    "# target location in Dropbox\n",
    "target = \"/Temp/\"              # the target folder\n",
    "targetfile = target + filename   # the target path and file name\n",
    "\n",
    "# Create a dropbox object using an API v2 key\n",
    "d = dropbox.Dropbox(api_access_token)\n",
    "\n",
    "# open the file and upload it\n",
    "with filepath.open(\"rb\") as f:\n",
    "   # upload gives you metadata about the file\n",
    "   # we want to overwite any previous version of the file\n",
    "   meta = d.files_upload(f.read(), targetfile, mode=dropbox.files.WriteMode(\"overwrite\"))\n",
    "\n",
    "# create a shared link\n",
    "link = d.sharing_create_shared_link(targetfile)\n",
    "\n",
    "# url which can be shared\n",
    "url = link.url\n",
    "\n",
    "# link which directly downloads by replacing ?dl=0 with ?dl=1\n",
    "dl_url = re.sub(r\"\\?dl\\=0\", \"?dl=1\", url)\n",
    "print (dl_url)"
   ]
  },
  {
   "cell_type": "code",
   "execution_count": null,
   "metadata": {
    "collapsed": true
   },
   "outputs": [],
   "source": []
  }
 ],
 "metadata": {
  "kernelspec": {
   "display_name": "Python 3",
   "language": "python",
   "name": "python3"
  },
  "language_info": {
   "codemirror_mode": {
    "name": "ipython",
    "version": 3
   },
   "file_extension": ".py",
   "mimetype": "text/x-python",
   "name": "python",
   "nbconvert_exporter": "python",
   "pygments_lexer": "ipython3",
   "version": "3.6.1"
  }
 },
 "nbformat": 4,
 "nbformat_minor": 2
}
