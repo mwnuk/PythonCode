{
 "cells": [
  {
   "cell_type": "raw",
   "metadata": {
    "collapsed": true
   },
   "source": [
    "## Evaluation - how do you choose between models\n",
    "## Estimate how well model will generalize out of sample data\n",
    "\n",
    "- train test on the same data\n",
    "- train test split\n",
    "- cross validation \n",
    "\n",
    "## Regression - ME, MSE, SRME\n",
    "## Classification - Accuracy, Precision, Sensitivity,Specifisity \n"
   ]
  },
  {
   "cell_type": "code",
   "execution_count": null,
   "metadata": {
    "collapsed": true
   },
   "outputs": [],
   "source": [
    "# NULL classification accuracy\n",
    "\n",
    "# When no model is used, just use blind prediction and check wha is probability\n",
    "# you are right - examine frequency of 1s in the output\n",
    "\n",
    "# when trainded model accuracy is 69% ( looks good) but dumb model accuracy \n",
    "# is 68% makes it look not  that good\n",
    "# discussion from here:\n",
    "# https://www.youtube.com/watch?v=85dtiMz9tSo\n",
    "\n",
    "#confusion matrix takes it all under consideration"
   ]
  },
  {
   "cell_type": "code",
   "execution_count": null,
   "metadata": {
    "collapsed": true
   },
   "outputs": [],
   "source": [
    "from sklearn import metrics\n",
    "confusion=matrics.confusion_matrx(y_test,y_pred)\n",
    "\n",
    "# Example with one classifier:\n",
    "#       True0 True1\n",
    "# Act 0  118    12\n",
    "# Act 1  47     15 \n",
    "\n",
    "# TruePositive TP 15 ones correctly predicted\n",
    "# TrueNegative TN 118 zeros corently predicted\n",
    "# FalsePositive FP 12 incorrectly predicted zeros\n",
    "# FalseNegative FN 47 act=1 predicted as zero\n",
    "\n"
   ]
  },
  {
   "cell_type": "code",
   "execution_count": null,
   "metadata": {
    "collapsed": true
   },
   "outputs": [],
   "source": [
    "TP=confusion[1,1]\n",
    "TN=confusion[0,0]\n",
    "FP=confusion[0,1]\n",
    "FN=confusion[1,0]"
   ]
  },
  {
   "cell_type": "code",
   "execution_count": null,
   "metadata": {
    "collapsed": true
   },
   "outputs": [],
   "source": [
    "# METRIX BASED ON CONFUSION MATRIX\n",
    "\n",
    "#1 Classification accuracy:\n",
    "(TP+TN)/float(TP+TN+FP+FN) \n",
    "\n",
    "#2 Precision \n",
    "TP/float(TP+FP) # or use metrics.precision_score(y_test,y_test_class)\n",
    "\n",
    "#3Misclassification rate\n",
    "(FP+FN)/TOTAL #or 1- AccuracyScore\n",
    "\n",
    "#4 Sensitivity, also called recall - when act is positive, how often it is correct\n",
    "TP/(TP+FN)   - bottom row when act is positive  \n",
    "\n",
    "#5 Specifisity - when act is negative, how often is it correct\n",
    "TN/(TN+FP)   top row when act =0\n",
    "\n"
   ]
  },
  {
   "cell_type": "code",
   "execution_count": null,
   "metadata": {
    "collapsed": true
   },
   "outputs": [],
   "source": [
    "# ADJUSTING CLASSIFICATION THRESHOLD\n",
    "logReg.predict_proba(X_test)[0:10,:]\n",
    "\n",
    "# Classification is based on Regression with default 50% which \n",
    "# can be lowered to improve sensitivity or raised to improve specificity  \n",
    "\n",
    "\n",
    "# Example1: decide email spam or ham- \n",
    "# it is more acceptable to have spam in inbox FN  then trash good message FP\n",
    "# so its better to adjust aclassification threshold to minimize False Positives FP\n",
    "# Example 2- fradulent transaction detector for a websiote\n",
    "# Positive calss is fraud\n",
    "# FP - normal transactions flagged as fraud are more acceptable then\n",
    "# FN - fraud is missed \n",
    "# thus adjust model for sensitivity\n",
    "\n"
   ]
  },
  {
   "cell_type": "raw",
   "metadata": {
    "collapsed": true
   },
   "source": [
    "EXAMPLE: DIABETES DATA SET  \n"
   ]
  },
  {
   "cell_type": "code",
   "execution_count": 2,
   "metadata": {},
   "outputs": [
    {
     "data": {
      "text/html": [
       "<div>\n",
       "<style>\n",
       "    .dataframe thead tr:only-child th {\n",
       "        text-align: right;\n",
       "    }\n",
       "\n",
       "    .dataframe thead th {\n",
       "        text-align: left;\n",
       "    }\n",
       "\n",
       "    .dataframe tbody tr th {\n",
       "        vertical-align: top;\n",
       "    }\n",
       "</style>\n",
       "<table border=\"1\" class=\"dataframe\">\n",
       "  <thead>\n",
       "    <tr style=\"text-align: right;\">\n",
       "      <th></th>\n",
       "      <th>pregnant</th>\n",
       "      <th>glucose</th>\n",
       "      <th>bp</th>\n",
       "      <th>skin</th>\n",
       "      <th>insulin</th>\n",
       "      <th>bmi</th>\n",
       "      <th>pedigree</th>\n",
       "      <th>age</th>\n",
       "      <th>label</th>\n",
       "    </tr>\n",
       "  </thead>\n",
       "  <tbody>\n",
       "    <tr>\n",
       "      <th>0</th>\n",
       "      <td>6</td>\n",
       "      <td>148</td>\n",
       "      <td>72</td>\n",
       "      <td>35</td>\n",
       "      <td>0</td>\n",
       "      <td>33.6</td>\n",
       "      <td>0.627</td>\n",
       "      <td>50</td>\n",
       "      <td>1</td>\n",
       "    </tr>\n",
       "    <tr>\n",
       "      <th>1</th>\n",
       "      <td>1</td>\n",
       "      <td>85</td>\n",
       "      <td>66</td>\n",
       "      <td>29</td>\n",
       "      <td>0</td>\n",
       "      <td>26.6</td>\n",
       "      <td>0.351</td>\n",
       "      <td>31</td>\n",
       "      <td>0</td>\n",
       "    </tr>\n",
       "    <tr>\n",
       "      <th>2</th>\n",
       "      <td>8</td>\n",
       "      <td>183</td>\n",
       "      <td>64</td>\n",
       "      <td>0</td>\n",
       "      <td>0</td>\n",
       "      <td>23.3</td>\n",
       "      <td>0.672</td>\n",
       "      <td>32</td>\n",
       "      <td>1</td>\n",
       "    </tr>\n",
       "    <tr>\n",
       "      <th>3</th>\n",
       "      <td>1</td>\n",
       "      <td>89</td>\n",
       "      <td>66</td>\n",
       "      <td>23</td>\n",
       "      <td>94</td>\n",
       "      <td>28.1</td>\n",
       "      <td>0.167</td>\n",
       "      <td>21</td>\n",
       "      <td>0</td>\n",
       "    </tr>\n",
       "    <tr>\n",
       "      <th>4</th>\n",
       "      <td>0</td>\n",
       "      <td>137</td>\n",
       "      <td>40</td>\n",
       "      <td>35</td>\n",
       "      <td>168</td>\n",
       "      <td>43.1</td>\n",
       "      <td>2.288</td>\n",
       "      <td>33</td>\n",
       "      <td>1</td>\n",
       "    </tr>\n",
       "  </tbody>\n",
       "</table>\n",
       "</div>"
      ],
      "text/plain": [
       "   pregnant  glucose  bp  skin  insulin   bmi  pedigree  age  label\n",
       "0         6      148  72    35        0  33.6     0.627   50      1\n",
       "1         1       85  66    29        0  26.6     0.351   31      0\n",
       "2         8      183  64     0        0  23.3     0.672   32      1\n",
       "3         1       89  66    23       94  28.1     0.167   21      0\n",
       "4         0      137  40    35      168  43.1     2.288   33      1"
      ]
     },
     "execution_count": 2,
     "metadata": {},
     "output_type": "execute_result"
    }
   ],
   "source": [
    "# read the Diabetes data into a Pandas DataFrame\n",
    "import pandas as pd\n",
    "url = 'https://archive.ics.uci.edu/ml/machine-learning-databases/pima-indians-diabetes/pima-indians-diabetes.data'\n",
    "col_names = ['pregnant', 'glucose', 'bp', 'skin', 'insulin', 'bmi', 'pedigree', 'age', 'label']\n",
    "pima = pd.read_csv(url, header=None, names=col_names)\n",
    "\n",
    "pima.head()"
   ]
  },
  {
   "cell_type": "code",
   "execution_count": null,
   "metadata": {
    "collapsed": true
   },
   "outputs": [],
   "source": []
  }
 ],
 "metadata": {
  "celltoolbar": "Edit Metadata",
  "kernelspec": {
   "display_name": "Python 3",
   "language": "python",
   "name": "python3"
  },
  "language_info": {
   "codemirror_mode": {
    "name": "ipython",
    "version": 3
   },
   "file_extension": ".py",
   "mimetype": "text/x-python",
   "name": "python",
   "nbconvert_exporter": "python",
   "pygments_lexer": "ipython3",
   "version": "3.6.1"
  }
 },
 "nbformat": 4,
 "nbformat_minor": 2
}
