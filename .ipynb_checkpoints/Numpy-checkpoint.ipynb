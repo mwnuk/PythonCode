{
 "cells": [
  {
   "cell_type": "code",
   "execution_count": 63,
   "metadata": {
    "collapsed": true
   },
   "outputs": [],
   "source": [
    "## Avoid undefined shape(5.)\n",
    "## or use a.reshape(5,1)"
   ]
  },
  {
   "cell_type": "code",
   "execution_count": 4,
   "metadata": {},
   "outputs": [
    {
     "name": "stdout",
     "output_type": "stream",
     "text": [
      "[  3.30856165e-01   7.61488655e-01   9.94100549e-02   9.85856472e-05\n",
      "   4.84586296e-01]\n"
     ]
    }
   ],
   "source": [
    "import numpy as np\n",
    "a=np.random.rand(5)\n",
    "print(a)"
   ]
  },
  {
   "cell_type": "code",
   "execution_count": 67,
   "metadata": {},
   "outputs": [
    {
     "name": "stdout",
     "output_type": "stream",
     "text": [
      "(5,)\n"
     ]
    }
   ],
   "source": [
    "print(a.shape)"
   ]
  },
  {
   "cell_type": "code",
   "execution_count": 68,
   "metadata": {},
   "outputs": [
    {
     "name": "stdout",
     "output_type": "stream",
     "text": [
      "[ 0.3025746   0.59144281  0.63973042  0.5960122   0.79406837]\n"
     ]
    }
   ],
   "source": [
    "### (5,) is called 'Rank 1 array', and is neither a row vector or a column vector\n",
    "### This make a Transpose look the same\n",
    "print(a.T)"
   ]
  },
  {
   "cell_type": "code",
   "execution_count": 69,
   "metadata": {},
   "outputs": [
    {
     "name": "stdout",
     "output_type": "stream",
     "text": [
      "1.83638611849\n"
     ]
    }
   ],
   "source": [
    "# faulty result \n",
    "print(np.dot(a,a.T))"
   ]
  },
  {
   "cell_type": "code",
   "execution_count": 70,
   "metadata": {},
   "outputs": [
    {
     "name": "stdout",
     "output_type": "stream",
     "text": [
      "(5, 1)\n"
     ]
    }
   ],
   "source": [
    "# avoid (5,) by defining shape upfront\n",
    "a=np.random.rand(5,1)\n",
    "print(a.shape)"
   ]
  },
  {
   "cell_type": "code",
   "execution_count": 71,
   "metadata": {},
   "outputs": [
    {
     "name": "stdout",
     "output_type": "stream",
     "text": [
      "[[ 0.02042382]\n",
      " [ 0.39172506]\n",
      " [ 0.51747375]\n",
      " [ 0.39757739]\n",
      " [ 0.90833963]]\n"
     ]
    }
   ],
   "source": [
    "# notice double bracket\n",
    "print(a)"
   ]
  },
  {
   "cell_type": "code",
   "execution_count": 72,
   "metadata": {},
   "outputs": [
    {
     "name": "stdout",
     "output_type": "stream",
     "text": [
      "[[  4.17132263e-04   8.00052048e-03   1.05687886e-02   8.12004754e-03\n",
      "    1.85517616e-02]\n",
      " [  8.00052048e-03   1.53448519e-01   2.02707432e-01   1.55741026e-01\n",
      "    3.55819392e-01]\n",
      " [  1.05687886e-02   2.02707432e-01   2.67779080e-01   2.05735863e-01\n",
      "    4.70041913e-01]\n",
      " [  8.12004754e-03   1.55741026e-01   2.05735863e-01   1.58067783e-01\n",
      "    3.61135302e-01]\n",
      " [  1.85517616e-02   3.55819392e-01   4.70041913e-01   3.61135302e-01\n",
      "    8.25080885e-01]]\n"
     ]
    }
   ],
   "source": [
    "print(np.dot(a,a.T))"
   ]
  },
  {
   "cell_type": "code",
   "execution_count": null,
   "metadata": {
    "collapsed": true
   },
   "outputs": [],
   "source": []
  },
  {
   "cell_type": "code",
   "execution_count": 73,
   "metadata": {
    "collapsed": true
   },
   "outputs": [],
   "source": [
    "## np.dot(a,b) is not the same as a*b"
   ]
  },
  {
   "cell_type": "code",
   "execution_count": 62,
   "metadata": {},
   "outputs": [
    {
     "name": "stdout",
     "output_type": "stream",
     "text": [
      "[[  9.06211900e-01   4.05166355e-01   3.31606169e-02   8.13600365e-01]\n",
      " [  5.90089530e-02   3.10192000e-01   8.07764978e-01   2.83701777e-01]\n",
      " [  4.03003269e-01   6.58862032e-04   9.03414261e-01   2.82268449e-01]\n",
      " [  4.55268923e-01   3.67557357e-01   4.33504795e-01   7.95937472e-01]\n",
      " [  9.09110740e-01   4.53133213e-01   1.18832131e-01   3.51790066e-01]]\n",
      "[[ 0.00644083]\n",
      " [ 0.91685432]\n",
      " [ 0.98653792]\n",
      " [ 0.0674722 ]]\n",
      "----\n",
      "[[ 0.46492489]\n",
      " [ 1.10081371]\n",
      " [ 0.91349745]\n",
      " [ 0.82130143]\n",
      " [ 0.56228102]]\n"
     ]
    },
    {
     "ename": "ValueError",
     "evalue": "operands could not be broadcast together with shapes (5,4) (4,1) ",
     "output_type": "error",
     "traceback": [
      "\u001b[1;31m---------------------------------------------------------------------------\u001b[0m",
      "\u001b[1;31mValueError\u001b[0m                                Traceback (most recent call last)",
      "\u001b[1;32m<ipython-input-62-c51e89878e0e>\u001b[0m in \u001b[0;36m<module>\u001b[1;34m()\u001b[0m\n\u001b[0;32m      5\u001b[0m \u001b[0mprint\u001b[0m\u001b[1;33m(\u001b[0m\u001b[1;34m'----'\u001b[0m\u001b[1;33m)\u001b[0m\u001b[1;33m\u001b[0m\u001b[0m\n\u001b[0;32m      6\u001b[0m \u001b[0mprint\u001b[0m\u001b[1;33m(\u001b[0m\u001b[0mnp\u001b[0m\u001b[1;33m.\u001b[0m\u001b[0mdot\u001b[0m\u001b[1;33m(\u001b[0m\u001b[0ma\u001b[0m\u001b[1;33m,\u001b[0m\u001b[0mb\u001b[0m\u001b[1;33m)\u001b[0m\u001b[1;33m)\u001b[0m\u001b[1;33m\u001b[0m\u001b[0m\n\u001b[1;32m----> 7\u001b[1;33m \u001b[0mprint\u001b[0m\u001b[1;33m(\u001b[0m\u001b[0ma\u001b[0m\u001b[1;33m*\u001b[0m\u001b[0mb\u001b[0m\u001b[1;33m)\u001b[0m\u001b[1;33m\u001b[0m\u001b[0m\n\u001b[0m",
      "\u001b[1;31mValueError\u001b[0m: operands could not be broadcast together with shapes (5,4) (4,1) "
     ]
    }
   ],
   "source": [
    "a=np.random.rand(5,4)\n",
    "b=np.random.rand(4,1)\n",
    "print(a)\n",
    "print(b)\n",
    "print('----')\n",
    "print(np.dot(a,b))\n",
    "print(a*b)\n"
   ]
  },
  {
   "cell_type": "code",
   "execution_count": 54,
   "metadata": {
    "scrolled": true
   },
   "outputs": [
    {
     "ename": "ValueError",
     "evalue": "operands could not be broadcast together with shapes (5,4) (4,3) ",
     "output_type": "error",
     "traceback": [
      "\u001b[1;31m---------------------------------------------------------------------------\u001b[0m",
      "\u001b[1;31mValueError\u001b[0m                                Traceback (most recent call last)",
      "\u001b[1;32m<ipython-input-54-7726830433ba>\u001b[0m in \u001b[0;36m<module>\u001b[1;34m()\u001b[0m\n\u001b[1;32m----> 1\u001b[1;33m \u001b[0mprint\u001b[0m\u001b[1;33m(\u001b[0m\u001b[1;33m(\u001b[0m\u001b[0ma\u001b[0m\u001b[1;33m*\u001b[0m\u001b[0mb\u001b[0m\u001b[1;33m)\u001b[0m\u001b[1;33m.\u001b[0m\u001b[0mshape\u001b[0m\u001b[1;33m)\u001b[0m\u001b[1;33m\u001b[0m\u001b[0m\n\u001b[0m",
      "\u001b[1;31mValueError\u001b[0m: operands could not be broadcast together with shapes (5,4) (4,3) "
     ]
    }
   ],
   "source": [
    "### a*b is \n",
    "print((a*b).shape)\n"
   ]
  },
  {
   "cell_type": "code",
   "execution_count": null,
   "metadata": {
    "collapsed": true
   },
   "outputs": [],
   "source": []
  }
 ],
 "metadata": {
  "kernelspec": {
   "display_name": "Python 3",
   "language": "python",
   "name": "python3"
  },
  "language_info": {
   "codemirror_mode": {
    "name": "ipython",
    "version": 3
   },
   "file_extension": ".py",
   "mimetype": "text/x-python",
   "name": "python",
   "nbconvert_exporter": "python",
   "pygments_lexer": "ipython3",
   "version": "3.6.1"
  }
 },
 "nbformat": 4,
 "nbformat_minor": 2
}
