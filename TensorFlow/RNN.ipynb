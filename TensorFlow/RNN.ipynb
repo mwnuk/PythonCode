{
 "cells": [
  {
   "cell_type": "code",
   "execution_count": null,
   "metadata": {
    "collapsed": true
   },
   "outputs": [],
   "source": [
    "Recurrent Neural Networks - RNN\n",
    " - Bakckprop through time\n",
    " - Exploading gradients - fix: gradient clipping  \n",
    " - Vanishing gradientsand - forgetting most distant past, cure: LSTM( long short term memory)\n",
    " - LSTM - memory cell is replaced with continouos func and diffrentiable all the way\n",
    " - LSTM - L2 and Drop out on input or output works well\n",
    " - "
   ]
  },
  {
   "cell_type": "code",
   "execution_count": null,
   "metadata": {
    "collapsed": true
   },
   "outputs": [],
   "source": [
    "https://classroom.udacity.com/courses/ud730/lessons/6378983156/concepts/63770919610923\n",
    "    "
   ]
  }
 ],
 "metadata": {
  "kernelspec": {
   "display_name": "Python 3",
   "language": "python",
   "name": "python3"
  },
  "language_info": {
   "codemirror_mode": {
    "name": "ipython",
    "version": 3
   },
   "file_extension": ".py",
   "mimetype": "text/x-python",
   "name": "python",
   "nbconvert_exporter": "python",
   "pygments_lexer": "ipython3",
   "version": "3.6.1"
  }
 },
 "nbformat": 4,
 "nbformat_minor": 2
}
